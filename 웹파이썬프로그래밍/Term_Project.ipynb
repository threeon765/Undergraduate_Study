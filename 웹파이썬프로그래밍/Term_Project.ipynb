{
 "cells": [
  {
   "cell_type": "markdown",
   "metadata": {},
   "source": [
    "## Web/Python Programming Term project - 2023104322 현시온\n",
    "## 주제 : 시장 주식 시세 비교 및 기술적 분석과 향후 시장 예측을 위한 관련 지표 도출"
   ]
  },
  {
   "cell_type": "markdown",
   "metadata": {},
   "source": [
    "### 1. 주제 선정 이유\n",
    " 처음 시장에 발을 막 들인 사회초년생으로서 시장 주식에 대해서 다루게 된다면 융합적으로 많은 정보를 지식으로 엮어낼 수 있는 경험이 될 수 있을 것이라고 생각했습니다. 투자를 위한 시장 예측을 위해 사용하는 분석법 중 하나인 기술적 분석에 필요한 다양한 지표들과 이를 산출해내는 법을 이해함으로서 경제 관련 지식을 얻을 수 있을 것입니다."
   ]
  },
  {
   "cell_type": "markdown",
   "metadata": {},
   "source": [
    "### 2. 가설 정의\n",
    "외부에서 얻은 주식 시세 정보를 기반으로 기술적 지표를 도출하여 향후 시장의 추세를 예측할 수 있다."
   ]
  },
  {
   "cell_type": "markdown",
   "metadata": {},
   "source": [
    "### 3.  인터넷을 통한 데이터 획득\n",
    "\n",
    "이렇게 얻은 주식 시세 정보를 기반으로 주식의 기술적 분석에 사용하는 새로운 지표를 계산하고 얻는 과정을 거쳐야 합니다.\n",
    "이를 위해 주식의 기술적 분석 관련 서비스를 제공하는 Tradingview 사이트를 참고하였습니다.\n"
   ]
  },
  {
   "cell_type": "markdown",
   "metadata": {},
   "source": [
    "주식 시세 정보 조회 및 데이터 수집을 위해서 공공 데이터 포털에서 제공하는 금융위원회의 주식 시세 정보 Open API를 사용할 예정입니다. 그 중 '주식 시세 상세 기능 명세' 기능을 가진 데이터베이스를 기용할 예정이며, 원하는 종목의 시가총액, 거래량, 등락률, 기준일자 등을 아이템으로 담고 있습니다.\n",
    "\n",
    "해당 프로젝트에서는 주식 '삼성전자'의 데이터를 대표적으로 사용할 예정입니다."
   ]
  },
  {
   "cell_type": "markdown",
   "metadata": {},
   "source": [
    "### 4. 분석을 통한 데이터 가공\n",
    " 과거의 데이터를 통해 미래 시장의 가격 움직임을 예측하는 방법인 기술적 분석은 가지고 있는 데이터의 분석과 가공이 필수적입니다. 이렇게 분석과 가공을 거쳐 도출해낸 새로운 데이터를 기술적 지표라고 하는데, 크게 다섯 가지 유형으로 구분할 수가 있지만, 저는 그 중 추세 지표만을 채택하였습니다."
   ]
  },
  {
   "cell_type": "markdown",
   "metadata": {},
   "source": [
    "#### 추세 지표\n",
    "추세 지표는 시장 추세의 방향과 강도를 파악할 수 있는 유형의 기술적 지표입니다. \n",
    "이중 제가 채택할 방법은 'Moving Average Convergence - Divergence'입니다.\n",
    "\n",
    "Moving Average Convergence - Divergence(이하 MACD)를 계산해내기 위해선 먼저 Moving Average(이하 MA)에 대해서 알아야 합니다. MA 그 자체로도 충분히 기술적 지표로서 가치가 있지만 여기서 한 번 더 가공을 거쳐 MACD를 도출해낸다면 더욱 가치 높은 기술적 지표를 만들 수 있습니다.\n",
    "\n",
    "Moving Average를 구하는 공식은 다음과 같습니다.\n",
    "##### $ MA = \\sum_{k=1}^n \\frac{k번째종가}{n}$\n",
    "여기서 n은 기준 간격(일)을 의미합니다.\n",
    "\n",
    "MA 공식을 기반으로 새로운 두 지표를 계산해냅니다.\n",
    "##### $ MACD\\,라인 = MA_{n=12} - MA_{n=26} $ \n",
    "##### $ MACD\\,시그널\\,라인 = MA_{n=9} $ \n",
    "이 두 지표가 교차하는 지점을 통해 시장 추세를 예측할 수 있습니다. MACD 라인이 시그널 라인을 상향 돌파하는 경우 단기적 상승세를 예상 가능한 신호이기에 주식을 매수하거나 보유하는 것이 유리합니다. 반대의 경우에도 위와 동일한 방식으로 예상할 수 있습니다."
   ]
  },
  {
   "cell_type": "markdown",
   "metadata": {},
   "source": [
    "### 5. 분석 결과 도출\n",
    "추후 작성 예정"
   ]
  },
  {
   "cell_type": "code",
   "execution_count": null,
   "metadata": {},
   "outputs": [],
   "source": [
    "'''완성된 프로그래밍 코드 작성란'''"
   ]
  },
  {
   "cell_type": "markdown",
   "metadata": {},
   "source": [
    "### 6. 결론\n",
    "추후 작성 예정"
   ]
  },
  {
   "cell_type": "markdown",
   "metadata": {},
   "source": [
    "### 7. 참고 문헌\n",
    "https://www.data.go.kr/data/15094808/openapi.do (주식 시세 정보 공공 API)\n",
    "\n",
    "https://www.tradingview.com/rest-api-spec/ (Tradingview API)"
   ]
  },
  {
   "cell_type": "markdown",
   "metadata": {},
   "source": [
    "### 8. 별첨"
   ]
  },
  {
   "cell_type": "code",
   "execution_count": 26,
   "metadata": {},
   "outputs": [
    {
     "name": "stdout",
     "output_type": "stream",
     "text": [
      "[{'종목명': '삼성전자', '기준 날짜': '20231214', '종가': '74100'}, {'종목명': '삼성전자', '기준 날짜': '20231213', '종가': '73300'}, {'종목명': '삼성전자', '기준 날짜': '20231212', '종가': '73300'}, {'종목명': '삼성전자', '기준 날짜': '20231211', '종가': '72800'}, {'종목명': '삼성전자', '기준 날짜': '20231208', '종가': '72100'}, {'종목명': '삼성전자', '기준 날짜': '20231207', '종가': '71800'}, {'종목명': '삼성전자', '기준 날짜': '20231206', '종가': '71800'}, {'종목명': '삼성전자', '기준 날짜': '20231205', '종가': '72300'}, {'종목명': '삼성전자', '기준 날짜': '20231204', '종가': '72800'}, {'종목명': '삼성전자', '기준 날짜': '20231201', '종가': '72400'}, {'종목명': '삼성전자', '기준 날짜': '20231130', '종가': '72700'}, {'종목명': '삼성전자', '기준 날짜': '20231129', '종가': '72400'}, {'종목명': '삼성전자', '기준 날짜': '20231128', '종가': '71400'}, {'종목명': '삼성전자', '기준 날짜': '20231127', '종가': '71500'}, {'종목명': '삼성전자', '기준 날짜': '20231124', '종가': '72400'}, {'종목명': '삼성전자', '기준 날짜': '20231123', '종가': '73000'}, {'종목명': '삼성전자', '기준 날짜': '20231122', '종가': '72200'}, {'종목명': '삼성전자', '기준 날짜': '20231121', '종가': '73100'}, {'종목명': '삼성전자', '기준 날짜': '20231120', '종가': '72100'}, {'종목명': '삼성전자', '기준 날짜': '20231117', '종가': '72300'}, {'종목명': '삼성전자', '기준 날짜': '20231116', '종가': '72500'}, {'종목명': '삼성전자', '기준 날짜': '20231115', '종가': '71600'}, {'종목명': '삼성전자', '기준 날짜': '20231114', '종가': '71000'}, {'종목명': '삼성전자', '기준 날짜': '20231113', '종가': '71300'}, {'종목명': '삼성전자', '기준 날짜': '20231110', '종가': '70000'}, {'종목명': '삼성전자', '기준 날짜': '20231109', '종가': '69900'}, {'종목명': '삼성전자', '기준 날짜': '20231108', '종가': '71300'}, {'종목명': '삼성전자', '기준 날짜': '20231107', '종가': '70600'}, {'종목명': '삼성전자', '기준 날짜': '20231106', '종가': '69800'}, {'종목명': '삼성전자', '기준 날짜': '20231103', '종가': '69700'}]\n"
     ]
    }
   ],
   "source": [
    "import requests\n",
    "import xml.etree.ElementTree as ET\n",
    "\n",
    "url = 'https://apis.data.go.kr/1160100/service/GetStockSecuritiesInfoService/getStockPriceInfo?serviceKey=7jXq7V9o2eZ6yFSkNNGkTNygzNg9hfcO6KlzFZJPhTFiDIb891zlgruc5Km7fZQkHH2lg96twkjUDRj0mHf7RA%3D%3D&numOfRows=30&itmsNm=%EC%82%BC%EC%84%B1%EC%A0%84%EC%9E%90'\n",
    "\n",
    "response = requests.get(url)\n",
    "row_data = str(response.content, encoding = 'utf-8')\n",
    "\n",
    "parsing = ET.fromstring(row_data)\n",
    "items = []\n",
    "iter_element = parsing.iter(tag=\"item\")\n",
    "for element in iter_element:\n",
    "    item = {}\n",
    "    item['종목명'] = element.find('itmsNm').text\n",
    "    item['기준 날짜'] = element.find('basDt').text\n",
    "    item['종가'] = element.find('mkp').text\n",
    "    items.append(item)\n",
    "print(items)"
   ]
  },
  {
   "cell_type": "markdown",
   "metadata": {},
   "source": [
    "### 9. 별첨"
   ]
  },
  {
   "cell_type": "code",
   "execution_count": 44,
   "metadata": {},
   "outputs": [],
   "source": [
    "import requests\n",
    "import xml.etree.ElementTree as ET\n",
    "import pandas as pd\n",
    "\n",
    "url = 'https://apis.data.go.kr/1160100/service/GetStockSecuritiesInfoService/getStockPriceInfo?serviceKey=7jXq7V9o2eZ6yFSkNNGkTNygzNg9hfcO6KlzFZJPhTFiDIb891zlgruc5Km7fZQkHH2lg96twkjUDRj0mHf7RA%3D%3D&numOfRows=30&itmsNm=%EC%82%BC%EC%84%B1%EC%A0%84%EC%9E%90'\n",
    "\n",
    "response = requests.get(url)\n",
    "row_data = str(response.content, encoding = 'utf-8')\n",
    "\n",
    "parsing = ET.fromstring(row_data)\n",
    "items = []\n",
    "iter_element = parsing.iter(tag=\"item\")\n",
    "for element in iter_element:\n",
    "    item = {}\n",
    "    item['종목명'] = element.find('itmsNm').text\n",
    "    item['기준 날짜'] = element.find('basDt').text\n",
    "    item['종가'] = element.find('mkp').text\n",
    "    items.append(item)\n",
    "\n",
    "def ma(last_date, time):\n",
    "    sigma = 0\n",
    "    for i in range(time):\n",
    "        sigma = sigma + int(items[i+last_date]['종가'])\n",
    "    return sigma/time\n",
    "\n",
    "def ma_line(last_date):\n",
    "    return ma(last_date, 12) - ma(last_date, 26)\n",
    "\n",
    "def ma_signal_line(last_date):\n",
    "    return ma(last_date, 9)"
   ]
  },
  {
   "cell_type": "markdown",
   "metadata": {},
   "source": [
    "### 10. 별첨"
   ]
  },
  {
   "cell_type": "code",
   "execution_count": 46,
   "metadata": {},
   "outputs": [],
   "source": [
    "def ma(last_date, time):\n",
    "    sigma = 0\n",
    "    for i in range(time):\n",
    "        sigma = sigma + int(items[i+last_date]['종가'])\n",
    "    return sigma/time\n",
    "\n",
    "def ma_line(last_date):\n",
    "    return ma(last_date, 12) - ma(last_date, 26)\n",
    "\n",
    "def ma_signal_line(last_date):\n",
    "    return ma(last_date, 9)"
   ]
  }
 ],
 "metadata": {
  "kernelspec": {
   "display_name": "Python 3 (ipykernel)",
   "language": "python",
   "name": "python3"
  },
  "language_info": {
   "codemirror_mode": {
    "name": "ipython",
    "version": 3
   },
   "file_extension": ".py",
   "mimetype": "text/x-python",
   "name": "python",
   "nbconvert_exporter": "python",
   "pygments_lexer": "ipython3",
   "version": "3.11.4"
  }
 },
 "nbformat": 4,
 "nbformat_minor": 2
}
